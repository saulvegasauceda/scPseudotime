{
 "cells": [
  {
   "cell_type": "markdown",
   "id": "cb912976",
   "metadata": {},
   "source": [
    "# Adding UMAP Coordinates"
   ]
  },
  {
   "cell_type": "markdown",
   "id": "4f12be7a",
   "metadata": {},
   "source": [
    "### Globals, imports"
   ]
  },
  {
   "cell_type": "code",
   "execution_count": 1,
   "id": "0a841692",
   "metadata": {},
   "outputs": [],
   "source": [
    "import anndata\n",
    "import scvelo as scv\n",
    "import scanpy as sc\n",
    "import pandas as pd\n",
    "import numpy as np\n",
    "import seaborn as sbn\n",
    "import scipy\n",
    "import matplotlib.pyplot as plt\n",
    "\n",
    "plt.rcParams['figure.figsize'] = [7, 7]\n",
    "plt.rcParams['figure.dpi'] = 440\n",
    "\n",
    "plotting_colors = {'Apical progenitors': 'navy',\n",
    " 'Intermediate progenitors':'steelblue',\n",
    " 'Red blood cells': 'saddlebrown',\n",
    " 'VLMC': 'gold',\n",
    " 'Immature neurons': 'rebeccapurple',\n",
    " 'Cajal Retzius cells': 'orangered',\n",
    " 'Microglia': 'pink',\n",
    " 'Migrating neurons': 'lavender',\n",
    " 'Endothelial cells': 'lemonchiffon',\n",
    " 'Pericytes': 'chocolate',\n",
    " 'Interneurons': 'blue',\n",
    " 'SCPN': 'green',\n",
    " 'CThPN': 'darkgreen',\n",
    " 'DL CPN': 'maroon',\n",
    " 'UL CPN': 'firebrick',\n",
    " 'Layer 4': 'darksalmon',\n",
    " 'Oligodendrocytes': 'mediumvioletred',\n",
    " 'Layer 6b': 'yellowgreen',\n",
    " 'NP': 'limegreen',\n",
    " 'Cycling glial cells': 'lavenderblush',\n",
    " 'Astrocytes': 'darkmagenta',\n",
    " 'Ependymocytes': 'blueviolet'}"
   ]
  },
  {
   "cell_type": "code",
   "execution_count": 2,
   "id": "d09eaf5d",
   "metadata": {},
   "outputs": [],
   "source": [
    "path_to_umap = \"/home/gridsan/ssauceda/neuroTF_shared/mouse_cortex_development/umap/\"\n",
    "umap_coords_file = path_to_umap + \"cluster_scDevSC.merged.umap.txt\"\n",
    "adata_file = path_to_umap + \"reduced_counts_adata.h5ad\"\n",
    "\n",
    "arlotta_adata = anndata.read_h5ad(adata_file)\n",
    "umap_info = pd.read_csv(umap_coords_file, header=None, sep='\\t')"
   ]
  },
  {
   "cell_type": "markdown",
   "id": "2e019695",
   "metadata": {},
   "source": [
    "## Formatting UMAP info"
   ]
  },
  {
   "cell_type": "code",
   "execution_count": 3,
   "id": "7f97b4d2",
   "metadata": {
    "scrolled": false
   },
   "outputs": [],
   "source": [
    "axes = list(umap_info.iloc[0, 1:])\n",
    "barcodes = list(umap_info.iloc[2:, 0])\n",
    "umap_info = umap_info.iloc[2:, 1:].astype(float)\n",
    "\n",
    "umap_info.columns = axes\n",
    "umap_info.index = barcodes\n",
    "\n",
    "our_barcodes_ordered = arlotta_adata.obs.index\n",
    "matching_barcodes = umap_info.index.isin(our_barcodes_ordered)\n",
    "umap_info = umap_info[matching_barcodes]\n",
    "umap_info = umap_info.reindex(our_barcodes_ordered)\n",
    "umap_info = np.array(umap_info)"
   ]
  },
  {
   "cell_type": "code",
   "execution_count": 4,
   "id": "1b6a0a8f",
   "metadata": {},
   "outputs": [
    {
     "data": {
      "text/plain": [
       "array([[ -3.90202421, -10.86965657],\n",
       "       [ -2.91512746, -12.21966172],\n",
       "       [ -3.04643888, -11.65679932],\n",
       "       ...,\n",
       "       [  4.80147963,   5.1143589 ],\n",
       "       [  5.2771781 ,   1.92562627],\n",
       "       [  7.92820721,   7.30391311]])"
      ]
     },
     "execution_count": 4,
     "metadata": {},
     "output_type": "execute_result"
    }
   ],
   "source": [
    "umap_info"
   ]
  },
  {
   "cell_type": "code",
   "execution_count": 5,
   "id": "082e3673",
   "metadata": {},
   "outputs": [],
   "source": [
    "arlotta_adata.obsm[\"X_umap\"] = umap_info"
   ]
  },
  {
   "cell_type": "markdown",
   "id": "aaf08ce4",
   "metadata": {
    "heading_collapsed": true
   },
   "source": [
    "### Plotting UMAP"
   ]
  },
  {
   "cell_type": "code",
   "execution_count": null,
   "id": "a64a7cde",
   "metadata": {
    "hidden": true
   },
   "outputs": [],
   "source": [
    "plt.rcParams['figure.figsize'] = [7, 7]\n",
    "plt.rcParams['figure.dpi'] = 440\n",
    "\n",
    "fig, ax = plt.subplots()\n",
    "sc.pl.umap(\n",
    "    arlotta_adata,\n",
    "    color='New_cellType',\n",
    "    ax = ax,\n",
    "    title = \"Arlotta provided UMAP\"\n",
    ")\n",
    "ax.axis('equal')"
   ]
  },
  {
   "cell_type": "code",
   "execution_count": null,
   "id": "e4d74d44",
   "metadata": {
    "hidden": true
   },
   "outputs": [],
   "source": [
    "plt.rcParams['figure.figsize'] = [7, 7]\n",
    "plt.rcParams['figure.dpi'] = 440\n",
    "\n",
    "fig, ax = plt.subplots()\n",
    "sc.pl.umap(\n",
    "    arlotta_adata,\n",
    "    color='Gral_cellType',\n",
    "    ax = ax,\n",
    "    title = \"Arlotta provided UMAP\"\n",
    ")\n",
    "ax.axis('equal')"
   ]
  },
  {
   "cell_type": "code",
   "execution_count": null,
   "id": "f0efb592",
   "metadata": {
    "hidden": true
   },
   "outputs": [],
   "source": [
    "plt.rcParams['figure.figsize'] = [7, 7]\n",
    "plt.rcParams['figure.dpi'] = 440\n",
    "\n",
    "fig, ax = plt.subplots()\n",
    "sc.pl.umap(\n",
    "    arlotta_adata,\n",
    "    color='orig_ident',\n",
    "    palette = 'Spectral',\n",
    "    ax = ax,\n",
    "    title = \"Arlotta provided UMAP\"\n",
    ")\n",
    "ax.axis('equal')"
   ]
  },
  {
   "cell_type": "markdown",
   "id": "95db1697",
   "metadata": {},
   "source": [
    "## Processing adata"
   ]
  },
  {
   "cell_type": "markdown",
   "id": "b62e2850",
   "metadata": {},
   "source": [
    "### Removing non-excitatory cells"
   ]
  },
  {
   "cell_type": "code",
   "execution_count": 10,
   "id": "8dd20504",
   "metadata": {},
   "outputs": [],
   "source": [
    "excitatory = ['Excitatory neurons', 'Apical progenitors', 'Intermediate progenitors']\n",
    "barcodes_excitatory = arlotta_adata.obs['Gral_cellType'].isin(excitatory)\n",
    "arlotta_adata = arlotta_adata[barcodes_excitatory]"
   ]
  },
  {
   "cell_type": "code",
   "execution_count": null,
   "id": "042ef28c",
   "metadata": {
    "scrolled": false
   },
   "outputs": [],
   "source": [
    "plt.rcParams['figure.figsize'] = [7, 7]\n",
    "plt.rcParams['figure.dpi'] = 440\n",
    "\n",
    "fig, ax = plt.subplots()\n",
    "sc.pl.umap(\n",
    "    arlotta_adata,\n",
    "    color='New_cellType',\n",
    "    ax = ax,\n",
    "    title = \"Arlotta provided UMAP (excitatory only)\"\n",
    ")\n",
    "ax.axis('equal')"
   ]
  },
  {
   "cell_type": "markdown",
   "id": "a1378be2",
   "metadata": {},
   "source": [
    "### Filtering genes"
   ]
  },
  {
   "cell_type": "code",
   "execution_count": 33,
   "id": "bcc41665",
   "metadata": {},
   "outputs": [],
   "source": [
    "copy_arlotta_scVelo_default = arlotta_adata.copy()\n",
    "copy_arlotta_our_filtering = arlotta_adata.copy()"
   ]
  },
  {
   "cell_type": "code",
   "execution_count": 15,
   "id": "8dd8bcb1",
   "metadata": {},
   "outputs": [
    {
     "name": "stdout",
     "output_type": "stream",
     "text": [
      "Filtered out 38969 genes that are detected 20 counts (shared).\n",
      "Normalized count data: X, spliced, unspliced.\n",
      "Extracted 3000 highly variable genes.\n",
      "WARNING: Did not modify X as it looks preprocessed already.\n",
      "computing neighbors\n",
      "    finished (0:00:33) --> added \n",
      "    'distances' and 'connectivities', weighted adjacency matrices (adata.obsp)\n",
      "computing moments based on connectivities\n",
      "    finished (0:00:08) --> added \n",
      "    'Ms' and 'Mu', moments of un/spliced abundances (adata.layers)\n"
     ]
    }
   ],
   "source": [
    "scv.pp.filter_and_normalize(copy_arlotta_scVelo_default, min_shared_counts=20, n_top_genes=3000)\n",
    "scv.pp.moments(copy_arlotta_scVelo_default, n_pcs=30, n_neighbors=30)"
   ]
  },
  {
   "cell_type": "code",
   "execution_count": 16,
   "id": "da44c7c2",
   "metadata": {},
   "outputs": [
    {
     "data": {
      "text/plain": [
       "AnnData object with n_obs × n_vars = 50323 × 3000\n",
       "    obs: 'batch', 'orig_ident', 'nCount_RNA', 'nFeature_RNA', 'percent_mito', 'n_hkgene', 'S_Score', 'G2M_Score', 'Phase', 'CC_Difference', 'seurat_clusters', 'RNA_snn_res_1', 'scrublet_doublet', 'RNA_snn_res_2', 'Doublet_intersect', 'Gral_cellType', 'New_cellType', 'biosample_id', 'donor_id', 'species', 'disease', 'disease__ontology_label', 'organ', 'organ__ontology_label', 'library_preparation_protocol', 'library_preparation_protocol__ontology_label', 'sex', 'species__ontology_label', 'initial_size', 'initial_size_unspliced', 'initial_size_spliced', 'n_counts'\n",
       "    var: 'Accession', 'Chromosome', 'End', 'Start', 'Strand', 'highly_variable', 'highly_variable_rank', 'means', 'variances', 'variances_norm', 'gene_count_corr', 'dispersions', 'dispersions_norm'\n",
       "    uns: 'hvg', 'New_cellType_colors', 'Gral_cellType_colors', 'orig_ident_colors', 'pca', 'neighbors'\n",
       "    obsm: 'X_umap', 'X_pca'\n",
       "    varm: 'PCs'\n",
       "    layers: 'ambiguous', 'matrix', 'spliced', 'unspliced', 'Ms', 'Mu'\n",
       "    obsp: 'distances', 'connectivities'"
      ]
     },
     "execution_count": 16,
     "metadata": {},
     "output_type": "execute_result"
    }
   ],
   "source": [
    "copy_arlotta_scVelo_default"
   ]
  },
  {
   "cell_type": "code",
   "execution_count": 17,
   "id": "c80a995b",
   "metadata": {},
   "outputs": [
    {
     "name": "stdout",
     "output_type": "stream",
     "text": [
      "computing velocities\n",
      "    finished (0:00:20) --> added \n",
      "    'velocity', velocity vectors for each individual cell (adata.layers)\n",
      "computing velocity graph (using 1/96 cores)\n"
     ]
    },
    {
     "data": {
      "application/vnd.jupyter.widget-view+json": {
       "model_id": "6954347b7c4a4a5bad0b78758492ddb0",
       "version_major": 2,
       "version_minor": 0
      },
      "text/plain": [
       "  0%|          | 0/50323 [00:00<?, ?cells/s]"
      ]
     },
     "metadata": {},
     "output_type": "display_data"
    },
    {
     "name": "stdout",
     "output_type": "stream",
     "text": [
      "    finished (0:03:55) --> added \n",
      "    'velocity_graph', sparse matrix with cosine correlations (adata.uns)\n"
     ]
    }
   ],
   "source": [
    "scv.tl.velocity(copy_arlotta_scVelo_default)\n",
    "scv.tl.velocity_graph(copy_arlotta_scVelo_default)"
   ]
  },
  {
   "cell_type": "code",
   "execution_count": null,
   "id": "bd321f28",
   "metadata": {},
   "outputs": [],
   "source": [
    "scv.pl.velocity_embedding_stream(copy_arlotta_scVelo_default, \n",
    "                                 color = 'New_cellType', \n",
    "                                 basis='umap',\n",
    "                                 title=\"Arlotta w/ default scVelo filtering method\")"
   ]
  },
  {
   "cell_type": "markdown",
   "id": "85d4f8f7",
   "metadata": {},
   "source": [
    "### Following our own filtering regime"
   ]
  },
  {
   "cell_type": "code",
   "execution_count": 34,
   "id": "7db84939",
   "metadata": {},
   "outputs": [
    {
     "name": "stdout",
     "output_type": "stream",
     "text": [
      "Normalized count data: X, spliced, unspliced.\n"
     ]
    }
   ],
   "source": [
    "# summing the number of splice features for each cell\n",
    "sum_spliced_features = np.array(copy_arlotta_our_filtering.layers[\"spliced\"].sum(axis=1))\n",
    "sum_unspliced_features = np.array(copy_arlotta_our_filtering.layers[\"unspliced\"].sum(axis=1))\n",
    "\n",
    "# filter out cells with less than 500 spliced or unspliced features\n",
    "cells_w_enough_splice_info = np.asarray((sum_spliced_features + sum_unspliced_features) >= 500)\n",
    "\n",
    "copy_arlotta_our_filtering = copy_arlotta_our_filtering[cells_w_enough_splice_info, :]\n",
    "\n",
    "scv.pp.normalize_per_cell(copy_arlotta_our_filtering, counts_per_cell_after=1e4, enforce=True)\n",
    "sc.pp.highly_variable_genes(copy_arlotta_our_filtering, flavor='seurat_v3', n_top_genes=3000)\n",
    "scv.pp.log1p(copy_arlotta_our_filtering)"
   ]
  },
  {
   "cell_type": "code",
   "execution_count": 35,
   "id": "c081d942",
   "metadata": {},
   "outputs": [
    {
     "data": {
      "text/plain": [
       "AnnData object with n_obs × n_vars = 50319 × 48820\n",
       "    obs: 'batch', 'orig_ident', 'nCount_RNA', 'nFeature_RNA', 'percent_mito', 'n_hkgene', 'S_Score', 'G2M_Score', 'Phase', 'CC_Difference', 'seurat_clusters', 'RNA_snn_res_1', 'scrublet_doublet', 'RNA_snn_res_2', 'Doublet_intersect', 'Gral_cellType', 'New_cellType', 'biosample_id', 'donor_id', 'species', 'disease', 'disease__ontology_label', 'organ', 'organ__ontology_label', 'library_preparation_protocol', 'library_preparation_protocol__ontology_label', 'sex', 'species__ontology_label', 'initial_size', 'n_counts'\n",
       "    var: 'Accession', 'Chromosome', 'End', 'Start', 'Strand', 'highly_variable', 'highly_variable_rank', 'means', 'variances', 'variances_norm', 'gene_count_corr'\n",
       "    uns: 'hvg', 'New_cellType_colors', 'Gral_cellType_colors', 'orig_ident_colors'\n",
       "    obsm: 'X_umap'\n",
       "    layers: 'ambiguous', 'matrix', 'spliced', 'unspliced'"
      ]
     },
     "execution_count": 35,
     "metadata": {},
     "output_type": "execute_result"
    }
   ],
   "source": [
    "copy_arlotta_our_filtering"
   ]
  },
  {
   "cell_type": "code",
   "execution_count": 36,
   "id": "c2829088",
   "metadata": {},
   "outputs": [
    {
     "name": "stdout",
     "output_type": "stream",
     "text": [
      "computing neighbors\n",
      "    finished (0:00:04) --> added \n",
      "    'distances' and 'connectivities', weighted adjacency matrices (adata.obsp)\n",
      "computing moments based on connectivities\n",
      "    finished (0:00:26) --> added \n",
      "    'Ms' and 'Mu', moments of un/spliced abundances (adata.layers)\n"
     ]
    }
   ],
   "source": [
    "scv.pp.moments(copy_arlotta_our_filtering, n_pcs=50, n_neighbors=15, use_highly_variable=True)"
   ]
  },
  {
   "cell_type": "code",
   "execution_count": null,
   "id": "7d8a6143",
   "metadata": {},
   "outputs": [],
   "source": [
    "copy_arlotta_our_filtering"
   ]
  },
  {
   "cell_type": "code",
   "execution_count": 27,
   "id": "354366b8",
   "metadata": {},
   "outputs": [
    {
     "name": "stdout",
     "output_type": "stream",
     "text": [
      "computing velocities\n",
      "    finished (0:04:58) --> added \n",
      "    'velocity', velocity vectors for each individual cell (adata.layers)\n"
     ]
    }
   ],
   "source": [
    "scv.tl.velocity(copy_arlotta_our_filtering, use_highly_variable=True)"
   ]
  },
  {
   "cell_type": "code",
   "execution_count": 28,
   "id": "4cd4d615",
   "metadata": {},
   "outputs": [
    {
     "name": "stdout",
     "output_type": "stream",
     "text": [
      "computing velocity graph (using 1/96 cores)\n"
     ]
    },
    {
     "data": {
      "application/vnd.jupyter.widget-view+json": {
       "model_id": "745c90f1c8bb4ef1802a3cbef04ab7ef",
       "version_major": 2,
       "version_minor": 0
      },
      "text/plain": [
       "  0%|          | 0/50319 [00:00<?, ?cells/s]"
      ]
     },
     "metadata": {},
     "output_type": "display_data"
    },
    {
     "name": "stdout",
     "output_type": "stream",
     "text": [
      "    finished (0:01:31) --> added \n",
      "    'velocity_graph', sparse matrix with cosine correlations (adata.uns)\n"
     ]
    }
   ],
   "source": [
    "scv.tl.velocity_graph(copy_arlotta_our_filtering)"
   ]
  },
  {
   "cell_type": "code",
   "execution_count": null,
   "id": "c39a502b",
   "metadata": {},
   "outputs": [],
   "source": [
    "scv.pl.velocity_embedding_stream(copy_arlotta_our_filtering, \n",
    "                                 color = 'New_cellType', \n",
    "                                 basis='umap',\n",
    "                                title=\"Arlotta w/ our own filtering regime\")"
   ]
  },
  {
   "cell_type": "markdown",
   "id": "ea75a436",
   "metadata": {},
   "source": [
    "Note: There does not seem to be any drastic difference between the filtering approaches. Thus, we will continue with our own filtering approach."
   ]
  },
  {
   "cell_type": "markdown",
   "id": "9f683ebd",
   "metadata": {},
   "source": [
    "## Saving arlotta h5ad w/ UMAP coords"
   ]
  },
  {
   "cell_type": "code",
   "execution_count": 31,
   "id": "3cc51d2d",
   "metadata": {},
   "outputs": [],
   "source": [
    "arlotta_adata.write_h5ad(path_to_umap + \"arlotta.raw_counts.provided_umap.h5ad\")"
   ]
  }
 ],
 "metadata": {
  "kernelspec": {
   "display_name": "Python [conda env:.conda-pseudo_temp]",
   "language": "python",
   "name": "conda-env-.conda-pseudo_temp-py"
  },
  "language_info": {
   "codemirror_mode": {
    "name": "ipython",
    "version": 3
   },
   "file_extension": ".py",
   "mimetype": "text/x-python",
   "name": "python",
   "nbconvert_exporter": "python",
   "pygments_lexer": "ipython3",
   "version": "3.10.8"
  },
  "latex_envs": {
   "LaTeX_envs_menu_present": true,
   "autoclose": false,
   "autocomplete": true,
   "bibliofile": "biblio.bib",
   "cite_by": "apalike",
   "current_citInitial": 1,
   "eqLabelWithNumbers": true,
   "eqNumInitial": 1,
   "hotkeys": {
    "equation": "Ctrl-E",
    "itemize": "Ctrl-I"
   },
   "labels_anchors": false,
   "latex_user_defs": false,
   "report_style_numbering": false,
   "user_envs_cfg": false
  },
  "toc": {
   "base_numbering": 1,
   "nav_menu": {},
   "number_sections": true,
   "sideBar": true,
   "skip_h1_title": false,
   "title_cell": "Table of Contents",
   "title_sidebar": "Contents",
   "toc_cell": false,
   "toc_position": {},
   "toc_section_display": true,
   "toc_window_display": false
  }
 },
 "nbformat": 4,
 "nbformat_minor": 5
}
