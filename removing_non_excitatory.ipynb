{
 "cells": [
  {
   "cell_type": "markdown",
   "id": "6f2f7fdb",
   "metadata": {},
   "source": [
    "# Removing non-excitatory cell types\n",
    "In order to to be able to accurately project the pseudotime trajectory of excitatory, we will remove non-excitatory cell types. This will prevent RBCs, microglia, etc. influencing the scVelo algorithms. It's probably worth considering running MAGIC only on the excitatory cell types as well."
   ]
  },
  {
   "cell_type": "markdown",
   "id": "a95eda9f",
   "metadata": {},
   "source": [
    "#### Globals and imports"
   ]
  },
  {
   "cell_type": "code",
   "execution_count": 1,
   "id": "a1c48047",
   "metadata": {},
   "outputs": [],
   "source": [
    "import anndata\n",
    "import scvelo as scv\n",
    "import scanpy as sc\n",
    "import pandas as pd\n",
    "import numpy as np\n",
    "import seaborn as sbn\n",
    "import scipy\n",
    "import matplotlib.pyplot as plt\n",
    "\n",
    "plt.rcParams['figure.figsize'] = [7, 7]\n",
    "plt.rcParams['figure.dpi'] = 440"
   ]
  },
  {
   "cell_type": "code",
   "execution_count": 2,
   "id": "92a4eb91",
   "metadata": {},
   "outputs": [],
   "source": [
    "plotting_colors = {'Apical progenitors': 'navy',\n",
    " 'Intermediate progenitors':'steelblue',\n",
    " 'Red blood cells': 'saddlebrown',\n",
    " 'VLMC': 'gold',\n",
    " 'Immature neurons': 'rebeccapurple',\n",
    " 'Cajal Retzius cells': 'orangered',\n",
    " 'Microglia': 'pink',\n",
    " 'Migrating neurons': 'lavender',\n",
    " 'Endothelial cells': 'lemonchiffon',\n",
    " 'Pericytes': 'chocolate',\n",
    " 'Interneurons': 'blue',\n",
    " 'SCPN': 'green',\n",
    " 'CThPN': 'darkgreen',\n",
    " 'DL CPN': 'maroon',\n",
    " 'UL CPN': 'firebrick',\n",
    " 'Layer 4': 'darksalmon',\n",
    " 'Oligodendrocytes': 'mediumvioletred',\n",
    " 'Layer 6b': 'yellowgreen',\n",
    " 'NP': 'limegreen',\n",
    " 'Cycling glial cells': 'lavenderblush',\n",
    " 'Astrocytes': 'darkmagenta',\n",
    " 'Ependymocytes': 'blueviolet'}"
   ]
  },
  {
   "cell_type": "code",
   "execution_count": 3,
   "id": "61530bf5",
   "metadata": {},
   "outputs": [],
   "source": [
    "path_to_scVelo = \"/home/gridsan/ssauceda/neuroTF_shared/mouse_cortex_development/scVelo/\"\n",
    "file_norm = \"arlotta.norm.high_var_only.regress_out.umap.filter_splice.h5ad\"\n",
    "\n",
    "norm_counts = anndata.read_h5ad(path_to_scVelo + file_norm)"
   ]
  },
  {
   "cell_type": "markdown",
   "id": "38ec3aa3",
   "metadata": {},
   "source": [
    "## Plotting cells before fitering"
   ]
  },
  {
   "cell_type": "code",
   "execution_count": null,
   "id": "f33bae2e",
   "metadata": {},
   "outputs": [],
   "source": [
    "plt.rcParams['figure.figsize'] = [7, 7]\n",
    "plt.rcParams['figure.dpi'] = 440\n",
    "\n",
    "fig, axis = plt.subplots()\n",
    "sc.pl.umap(\n",
    "    norm_counts,\n",
    "    color='New_cellType',\n",
    "    palette=plotting_colors,\n",
    "    ax=axis,\n",
    "    title=\"Normalized Counts by Cell Type\"\n",
    ")\n",
    "\n",
    "axis.axis('equal')"
   ]
  },
  {
   "cell_type": "code",
   "execution_count": null,
   "id": "38c2fe18",
   "metadata": {},
   "outputs": [],
   "source": [
    "plt.rcParams['figure.figsize'] = [7, 7]\n",
    "plt.rcParams['figure.dpi'] = 440\n",
    "\n",
    "fig, axis = plt.subplots()\n",
    "sc.pl.umap(\n",
    "    norm_counts,\n",
    "    color='Gral_cellType',\n",
    "    ax=axis,\n",
    "    title=\"Normalized Counts by General Cell Type\"\n",
    ")\n",
    "\n",
    "axis.axis('equal')"
   ]
  },
  {
   "cell_type": "markdown",
   "id": "29cdad27",
   "metadata": {},
   "source": [
    "## Filtering out cells"
   ]
  },
  {
   "cell_type": "code",
   "execution_count": 8,
   "id": "7d7a0fdf",
   "metadata": {},
   "outputs": [],
   "source": [
    "filter_out = ['Glia', 'Interneurons', 'Microglia', 'Vasculature']\n",
    "excitatory = ['Excitatory neurons', 'Apical progenitors', 'Intermediate progenitors']"
   ]
  },
  {
   "cell_type": "code",
   "execution_count": 10,
   "id": "f297f674",
   "metadata": {},
   "outputs": [],
   "source": [
    "filtered_norm_counts = norm_counts[norm_counts.obs['Gral_cellType'].isin(excitatory)]"
   ]
  },
  {
   "cell_type": "code",
   "execution_count": null,
   "id": "069dfef6",
   "metadata": {},
   "outputs": [],
   "source": [
    "plt.rcParams['figure.figsize'] = [7, 7]\n",
    "plt.rcParams['figure.dpi'] = 440\n",
    "\n",
    "fig, axis = plt.subplots()\n",
    "sc.pl.umap(\n",
    "    filtered_norm_counts,\n",
    "    color='New_cellType',\n",
    "    palette=plotting_colors,\n",
    "    ax=axis,\n",
    "    title=\"Excitatory by Cell Type\"\n",
    ")\n",
    "\n",
    "axis.axis('equal')"
   ]
  },
  {
   "cell_type": "code",
   "execution_count": null,
   "id": "f07f2b69",
   "metadata": {},
   "outputs": [],
   "source": [
    "plt.rcParams['figure.figsize'] = [7, 7]\n",
    "plt.rcParams['figure.dpi'] = 440\n",
    "\n",
    "fig, axis = plt.subplots()\n",
    "sc.pl.umap(\n",
    "    filtered_norm_counts,\n",
    "    color='Gral_cellType',\n",
    "    ax=axis,\n",
    "    title=\"Confirming filtering\"\n",
    ")\n",
    "\n",
    "axis.axis('equal')"
   ]
  },
  {
   "cell_type": "code",
   "execution_count": 14,
   "id": "1e669162",
   "metadata": {},
   "outputs": [],
   "source": [
    "excitatory_file = 'arlotta.norm.high_var_only.regress_out.umap.filter_splice.excitatory.h5ad'\n",
    "filtered_norm_counts.write_h5ad(path_to_scVelo + excitatory_file)"
   ]
  }
 ],
 "metadata": {
  "kernelspec": {
   "display_name": "Python [conda env:.conda-pseudo_temp]",
   "language": "python",
   "name": "conda-env-.conda-pseudo_temp-py"
  },
  "language_info": {
   "codemirror_mode": {
    "name": "ipython",
    "version": 3
   },
   "file_extension": ".py",
   "mimetype": "text/x-python",
   "name": "python",
   "nbconvert_exporter": "python",
   "pygments_lexer": "ipython3",
   "version": "3.10.8"
  },
  "latex_envs": {
   "LaTeX_envs_menu_present": true,
   "autoclose": false,
   "autocomplete": true,
   "bibliofile": "biblio.bib",
   "cite_by": "apalike",
   "current_citInitial": 1,
   "eqLabelWithNumbers": true,
   "eqNumInitial": 1,
   "hotkeys": {
    "equation": "Ctrl-E",
    "itemize": "Ctrl-I"
   },
   "labels_anchors": false,
   "latex_user_defs": false,
   "report_style_numbering": false,
   "user_envs_cfg": false
  },
  "toc": {
   "base_numbering": 1,
   "nav_menu": {},
   "number_sections": true,
   "sideBar": true,
   "skip_h1_title": false,
   "title_cell": "Table of Contents",
   "title_sidebar": "Contents",
   "toc_cell": false,
   "toc_position": {},
   "toc_section_display": true,
   "toc_window_display": false
  }
 },
 "nbformat": 4,
 "nbformat_minor": 5
}
