{
 "cells": [
  {
   "cell_type": "code",
   "execution_count": 6,
   "id": "74817ee1",
   "metadata": {},
   "outputs": [],
   "source": [
    "import anndata\n",
    "import scvelo as scv\n",
    "import scanpy as sc\n",
    "import pandas as pd\n",
    "import numpy as np\n",
    "import seaborn as sbn\n",
    "import scipy\n",
    "from scipy import sparse\n",
    "import matplotlib.pyplot as plt\n",
    "\n",
    "plt.rcParams['figure.figsize'] = [7, 7]\n",
    "plt.rcParams['figure.dpi'] = 44"
   ]
  },
  {
   "cell_type": "code",
   "execution_count": 2,
   "id": "d0cfa6ff",
   "metadata": {},
   "outputs": [],
   "source": [
    "path_to_raw_counts = \"/home/gridsan/ssauceda/neuroTF_shared/mouse_cortex_development/umap/reduced_counts_adata.h5ad\"\n",
    "path_to_imputed_counts = \"/home/gridsan/ssauceda/neuroTF_shared/mouse_cortex_development/magic/reduced_counts_adata.magic.h5ad\"\n",
    "raw_counts = anndata.read_h5ad(path_to_raw_counts)\n",
    "imputed_counts = anndata.read_h5ad(path_to_imputed_counts)"
   ]
  },
  {
   "cell_type": "code",
   "execution_count": 4,
   "id": "addfebce",
   "metadata": {},
   "outputs": [
    {
     "data": {
      "text/plain": [
       "array([[0.        , 0.        , 0.        , ..., 0.        , 0.00207422,\n",
       "        0.        ],\n",
       "       [0.        , 0.        , 0.        , ..., 0.        , 0.00577333,\n",
       "        0.        ],\n",
       "       [0.        , 0.        , 0.        , ..., 0.        , 0.00426448,\n",
       "        0.        ],\n",
       "       ...,\n",
       "       [0.        , 0.        , 0.        , ..., 0.        , 0.00153858,\n",
       "        0.        ],\n",
       "       [0.        , 0.        , 0.        , ..., 0.        , 0.00087443,\n",
       "        0.        ],\n",
       "       [0.        , 0.        , 0.        , ..., 0.        , 0.00140066,\n",
       "        0.        ]], dtype=float32)"
      ]
     },
     "execution_count": 4,
     "metadata": {},
     "output_type": "execute_result"
    }
   ],
   "source": [
    "imputed_counts.X"
   ]
  },
  {
   "cell_type": "code",
   "execution_count": 5,
   "id": "b3d70b8f",
   "metadata": {},
   "outputs": [
    {
     "data": {
      "text/plain": [
       "<82135x48820 sparse matrix of type '<class 'numpy.float32'>'\n",
       "\twith 145298477 stored elements in Compressed Sparse Row format>"
      ]
     },
     "execution_count": 5,
     "metadata": {},
     "output_type": "execute_result"
    }
   ],
   "source": [
    "raw_counts.X"
   ]
  },
  {
   "cell_type": "code",
   "execution_count": 7,
   "id": "9dece182",
   "metadata": {},
   "outputs": [],
   "source": [
    "sparse_X = sparse.csr_matrix(imputed_counts.X)"
   ]
  },
  {
   "cell_type": "code",
   "execution_count": 9,
   "id": "2be6c67f",
   "metadata": {},
   "outputs": [],
   "source": [
    "imputed_counts.X = sparse_X"
   ]
  },
  {
   "cell_type": "code",
   "execution_count": 11,
   "id": "03616c99",
   "metadata": {},
   "outputs": [],
   "source": [
    "imputed_counts.write_h5ad(path_to_imputed_counts)"
   ]
  },
  {
   "cell_type": "code",
   "execution_count": null,
   "id": "2620b957",
   "metadata": {},
   "outputs": [],
   "source": []
  }
 ],
 "metadata": {
  "kernelspec": {
   "display_name": "Python [conda env:.conda-pseudo_temp]",
   "language": "python",
   "name": "conda-env-.conda-pseudo_temp-py"
  },
  "language_info": {
   "codemirror_mode": {
    "name": "ipython",
    "version": 3
   },
   "file_extension": ".py",
   "mimetype": "text/x-python",
   "name": "python",
   "nbconvert_exporter": "python",
   "pygments_lexer": "ipython3",
   "version": "3.10.8"
  },
  "latex_envs": {
   "LaTeX_envs_menu_present": true,
   "autoclose": false,
   "autocomplete": true,
   "bibliofile": "biblio.bib",
   "cite_by": "apalike",
   "current_citInitial": 1,
   "eqLabelWithNumbers": true,
   "eqNumInitial": 1,
   "hotkeys": {
    "equation": "Ctrl-E",
    "itemize": "Ctrl-I"
   },
   "labels_anchors": false,
   "latex_user_defs": false,
   "report_style_numbering": false,
   "user_envs_cfg": false
  },
  "toc": {
   "base_numbering": 1,
   "nav_menu": {},
   "number_sections": true,
   "sideBar": true,
   "skip_h1_title": false,
   "title_cell": "Table of Contents",
   "title_sidebar": "Contents",
   "toc_cell": false,
   "toc_position": {},
   "toc_section_display": true,
   "toc_window_display": false
  }
 },
 "nbformat": 4,
 "nbformat_minor": 5
}
